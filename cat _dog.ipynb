{
 "cells": [
  {
   "cell_type": "code",
   "execution_count": 1,
   "id": "4bf9fd15-2073-46c8-a883-961a7be83fb5",
   "metadata": {},
   "outputs": [
    {
     "name": "stdout",
     "output_type": "stream",
     "text": [
      "Requirement already satisfied: pyforest in /opt/anaconda3/lib/python3.11/site-packages (1.1.2)\n"
     ]
    },
    {
     "data": {
      "text/plain": [
       "['import skimage',\n",
       " 'from statsmodels.tsa.arima_model import ARIMA',\n",
       " 'import keras',\n",
       " 'import torch',\n",
       " 'from sklearn.model_selection import GridSearchCV',\n",
       " 'from PIL import Image',\n",
       " 'from sklearn.impute import SimpleImputer',\n",
       " 'import seaborn as sns',\n",
       " 'import plotly as py',\n",
       " 'from fbprophet import Prophet',\n",
       " 'import pandas as pd',\n",
       " 'import sklearn',\n",
       " 'from sklearn.model_selection import train_test_split',\n",
       " 'import dash',\n",
       " 'import nltk',\n",
       " 'import imutils',\n",
       " 'from sklearn.preprocessing import MinMaxScaler',\n",
       " 'from sklearn import svm',\n",
       " 'import tqdm',\n",
       " 'import statsmodels.api as sm',\n",
       " 'import spacy',\n",
       " 'from sklearn.preprocessing import LabelEncoder',\n",
       " 'from sklearn.linear_model import ElasticNetCV',\n",
       " 'from dask import dataframe as dd',\n",
       " 'from sklearn.linear_model import LogisticRegression',\n",
       " 'from sklearn import metrics',\n",
       " 'import lightgbm as lgb',\n",
       " 'import pydot',\n",
       " 'from sklearn.decomposition import PCA',\n",
       " 'from sklearn.ensemble import RandomForestRegressor',\n",
       " 'from sklearn.model_selection import StratifiedKFold',\n",
       " 'from sklearn.linear_model import ElasticNet',\n",
       " 'import numpy as np',\n",
       " 'import re',\n",
       " 'from sklearn.preprocessing import StandardScaler',\n",
       " 'import tensorflow as tf',\n",
       " 'from sklearn.model_selection import RandomizedSearchCV',\n",
       " 'import xgboost as xgb',\n",
       " 'from scipy import signal as sg',\n",
       " 'from sklearn.linear_model import Lasso',\n",
       " 'from sklearn.manifold import TSNE',\n",
       " 'import fbprophet',\n",
       " 'from sklearn.ensemble import GradientBoostingClassifier',\n",
       " 'from sklearn.linear_model import LinearRegression',\n",
       " 'import sys',\n",
       " 'import matplotlib.pyplot as plt',\n",
       " 'from xlrd import open_workbook',\n",
       " 'from sklearn.linear_model import Ridge',\n",
       " 'import cv2',\n",
       " 'from sklearn.preprocessing import PolynomialFeatures',\n",
       " 'import altair as alt',\n",
       " 'from sklearn.cluster import KMeans',\n",
       " 'from sklearn.preprocessing import OneHotEncoder',\n",
       " 'from sklearn.linear_model import LassoCV',\n",
       " 'from sklearn.preprocessing import RobustScaler',\n",
       " 'from sklearn.ensemble import GradientBoostingRegressor',\n",
       " 'import bokeh',\n",
       " 'from scipy import stats',\n",
       " 'import gensim',\n",
       " 'import textblob',\n",
       " 'from sklearn.model_selection import KFold',\n",
       " 'import pickle',\n",
       " 'from sklearn.model_selection import cross_val_score',\n",
       " 'import plotly.express as px',\n",
       " 'import matplotlib as mpl',\n",
       " 'from sklearn.linear_model import RidgeCV',\n",
       " 'import random',\n",
       " 'from sklearn.ensemble import RandomForestClassifier',\n",
       " 'from openpyxl import load_workbook',\n",
       " 'from pathlib import Path',\n",
       " 'import statistics',\n",
       " 'import glob',\n",
       " 'import os',\n",
       " 'import plotly.graph_objs as go',\n",
       " 'import awswrangler as wr',\n",
       " 'import datetime as dt',\n",
       " 'from sklearn.feature_extraction.text import CountVectorizer',\n",
       " 'from sklearn.feature_extraction.text import TfidfVectorizer',\n",
       " 'import fastai',\n",
       " 'from pyspark import SparkContext']"
      ]
     },
     "execution_count": 1,
     "metadata": {},
     "output_type": "execute_result"
    }
   ],
   "source": [
    "!pip install pyforest\n",
    "from pyforest import *\n",
    "lazy_imports()"
   ]
  },
  {
   "cell_type": "code",
   "execution_count": 2,
   "id": "622bb6b9-b4a5-4658-a2d5-14aa91197167",
   "metadata": {},
   "outputs": [
    {
     "name": "stdout",
     "output_type": "stream",
     "text": [
      "Dataset URL: https://www.kaggle.com/datasets/salader/dogs-vs-cats\n",
      "License(s): unknown\n",
      "Downloading dogs-vs-cats.zip to /Users/suresh.kalisetty/Desktop/AI : ML/mine prac/Deep Learning/IMAGE_Classification/cat & dog\n",
      "100%|█████████████████████████████████████▉| 1.06G/1.06G [02:02<00:00, 9.22MB/s]\n",
      "100%|██████████████████████████████████████| 1.06G/1.06G [02:02<00:00, 9.32MB/s]\n"
     ]
    }
   ],
   "source": [
    "!kaggle datasets download -d salader/dogs-vs-cats"
   ]
  },
  {
   "cell_type": "code",
   "execution_count": 3,
   "id": "52ae13ac-8e00-482e-9d2f-d110cda16f89",
   "metadata": {},
   "outputs": [],
   "source": [
    "import zipfile\n",
    "zip_fol = zipfile.ZipFile(\"dogs-vs-cats.zip\", \"r\")\n",
    "zip_fol.extractall(\"dogs-vs-cats_df\")"
   ]
  },
  {
   "cell_type": "code",
   "execution_count": 4,
   "id": "0fd81382-a5e3-47df-b4a8-ca52cb5c1ce6",
   "metadata": {},
   "outputs": [],
   "source": [
    "DI_train = r\"/Users/suresh.kalisetty/Desktop/AI : ML/mine prac/Deep Learning/cat & dog/dogs-vs-cats_df/train\"\n",
    "\n",
    "DI_test = r\"/Users/suresh.kalisetty/Desktop/AI : ML/mine prac/Deep Learning/cat & dog/dogs-vs-cats_df/test\""
   ]
  },
  {
   "cell_type": "code",
   "execution_count": 5,
   "id": "a283e30b-6a97-4e92-b753-6eab3406004d",
   "metadata": {},
   "outputs": [],
   "source": [
    "CATEGORIES = ['cats', 'dogs']"
   ]
  },
  {
   "cell_type": "code",
   "execution_count": 6,
   "id": "968862b4-1a39-48a9-8b8c-363d126b5ea2",
   "metadata": {
    "scrolled": true
   },
   "outputs": [
    {
     "data": {
      "application/javascript": [
       "\n",
       "        if (window._pyforest_update_imports_cell) { window._pyforest_update_imports_cell('import os'); }\n",
       "    "
      ],
      "text/plain": [
       "<IPython.core.display.Javascript object>"
      ]
     },
     "metadata": {},
     "output_type": "display_data"
    },
    {
     "data": {
      "application/javascript": [
       "\n",
       "        if (window._pyforest_update_imports_cell) { window._pyforest_update_imports_cell('import os'); }\n",
       "    "
      ],
      "text/plain": [
       "<IPython.core.display.Javascript object>"
      ]
     },
     "metadata": {},
     "output_type": "display_data"
    },
    {
     "ename": "FileNotFoundError",
     "evalue": "[Errno 2] No such file or directory: '/Users/suresh.kalisetty/Desktop/AI : ML/mine prac/Deep Learning/cat & dog/dogs-vs-cats_df/train/cats'",
     "output_type": "error",
     "traceback": [
      "\u001b[0;31m---------------------------------------------------------------------------\u001b[0m",
      "\u001b[0;31mFileNotFoundError\u001b[0m                         Traceback (most recent call last)",
      "Cell \u001b[0;32mIn[6], line 5\u001b[0m\n\u001b[1;32m      3\u001b[0m folder \u001b[38;5;241m=\u001b[39m os\u001b[38;5;241m.\u001b[39mpath\u001b[38;5;241m.\u001b[39mjoin(DI_train, category)  \u001b[38;5;66;03m# fetching folder\u001b[39;00m\n\u001b[1;32m      4\u001b[0m label \u001b[38;5;241m=\u001b[39m CATEGORIES\u001b[38;5;241m.\u001b[39mindex(category)\n\u001b[0;32m----> 5\u001b[0m \u001b[38;5;28;01mfor\u001b[39;00m image \u001b[38;5;129;01min\u001b[39;00m os\u001b[38;5;241m.\u001b[39mlistdir(folder):\n\u001b[1;32m      6\u001b[0m     image_path \u001b[38;5;241m=\u001b[39m os\u001b[38;5;241m.\u001b[39mpath\u001b[38;5;241m.\u001b[39mjoin(folder, image)  \u001b[38;5;66;03m# fetching image path\u001b[39;00m\n\u001b[1;32m      7\u001b[0m     image_array \u001b[38;5;241m=\u001b[39m cv2\u001b[38;5;241m.\u001b[39mimread(image_path)\n",
      "\u001b[0;31mFileNotFoundError\u001b[0m: [Errno 2] No such file or directory: '/Users/suresh.kalisetty/Desktop/AI : ML/mine prac/Deep Learning/cat & dog/dogs-vs-cats_df/train/cats'"
     ]
    }
   ],
   "source": [
    "train = []\n",
    "for category in CATEGORIES:\n",
    "    folder = os.path.join(DI_train, category)  # fetching folder\n",
    "    label = CATEGORIES.index(category)\n",
    "    for image in os.listdir(folder):\n",
    "        image_path = os.path.join(folder, image)  # fetching image path\n",
    "        image_array = cv2.imread(image_path)\n",
    "        image_array = cv2.resize(image_array, (100,100))\n",
    "\n",
    "        train.append([image_array, label])\n",
    "\n",
    "x_train = []\n",
    "y_train = []\n",
    "for features, labels in train:\n",
    "    x_train.append(features)\n",
    "    y_train.append(labels)"
   ]
  },
  {
   "cell_type": "code",
   "execution_count": null,
   "id": "5d4a7fc6-a4cd-4050-9e0f-2e129e557028",
   "metadata": {},
   "outputs": [],
   "source": [
    "x_train1 = np.array(x_train)\n",
    "y_train1 = np.array(y_train)\n",
    "\n",
    "print(f'x_train1 : {x_train1.shape}')\n",
    "print(f'y_train1 : {y_train1.shape}')"
   ]
  },
  {
   "cell_type": "code",
   "execution_count": null,
   "id": "716c90e8-68d5-4724-9e63-6d65b73ccfbd",
   "metadata": {
    "scrolled": true
   },
   "outputs": [],
   "source": [
    "test = []\n",
    "for category in CATEGORIES:\n",
    "    folder = os.path.join(DI_test, category)\n",
    "    label = CATEGORIES.index(category)\n",
    "    for image in os.listdir(folder):\n",
    "        image_path = os.path.join(folder, image)\n",
    "        image_array = cv2.imread(image_path)\n",
    "        image_array = cv2.resize(image_array, (100,100))\n",
    "\n",
    "        test.append([image_array, label])\n",
    "\n",
    "\n",
    "x_test = []\n",
    "y_test = []\n",
    "for features, labels in test:\n",
    "    x_test.append(features)\n",
    "    y_test.append(labels)\n"
   ]
  },
  {
   "cell_type": "code",
   "execution_count": null,
   "id": "da457d75-b009-4277-b287-4603cce13c38",
   "metadata": {},
   "outputs": [],
   "source": [
    "x_test1 = np.array(x_test)\n",
    "y_test1 = np.array(y_test)\n",
    "\n",
    "print(f'x_test1 : {x_test1.shape}')\n",
    "print(f'y_test1 : {y_test1.shape}')"
   ]
  },
  {
   "cell_type": "code",
   "execution_count": null,
   "id": "dff47ec9-2d2d-43e2-9230-70b99cee979a",
   "metadata": {},
   "outputs": [],
   "source": [
    "x_train2 = x_train1/255\n",
    "x_test2 = x_test1/255"
   ]
  },
  {
   "cell_type": "code",
   "execution_count": null,
   "id": "81b2234d-d474-438c-b07b-e0d781449289",
   "metadata": {
    "scrolled": true
   },
   "outputs": [],
   "source": [
    "!pip install tensorflow\n",
    "import tensorflow as tf"
   ]
  },
  {
   "cell_type": "code",
   "execution_count": null,
   "id": "a9c552cf-4535-4ecd-8919-4277e4dee169",
   "metadata": {},
   "outputs": [],
   "source": [
    "from tensorflow.keras.models import Sequential\n",
    "from tensorflow.keras.layers import Conv2D, MaxPooling2D, Dropout, Flatten, Dense, ELU, ReLU, PReLU, LeakyReLU\n",
    "\n",
    "model = Sequential()\n",
    "\n",
    "model.add(Conv2D(32, (3,3), activation='relu', input_shape=(100, 100, 3)))\n",
    "model.add(MaxPooling2D(2,2))\n",
    "model.add(Dropout(0.1))\n",
    "\n",
    "model.add(Conv2D(32, (3,3), activation='relu'))\n",
    "model.add(MaxPooling2D(2,2))\n",
    "model.add(Dropout(0.1))\n",
    "\n",
    "model.add(Conv2D(32, (3,3), activation='relu'))\n",
    "model.add(MaxPooling2D(2,2))\n",
    "model.add(Dropout(0.1))\n",
    "\n",
    "model.add(Flatten())\n",
    "model.add(Dense(64, activation='relu'))\n",
    "\n",
    "model.add(Dense(1, activation='sigmoid'))"
   ]
  },
  {
   "cell_type": "code",
   "execution_count": null,
   "id": "6643984b-5e94-480a-95c6-7c08ff3228a9",
   "metadata": {},
   "outputs": [],
   "source": [
    "import tensorflow\n",
    "opti = tensorflow.keras.optimizers.Adam(learning_rate=0.001)\n",
    "model.compile(loss='binary_crossentropy', optimizer=opti, metrics=['accuracy'])"
   ]
  },
  {
   "cell_type": "code",
   "execution_count": null,
   "id": "7ea2a115-1a90-4751-a6ee-3706bfbdf573",
   "metadata": {
    "scrolled": true
   },
   "outputs": [],
   "source": [
    "# PATIENT EARLY STOPPING\n",
    "import tensorflow\n",
    "early_stop = tensorflow.keras.callbacks.EarlyStopping(\n",
    "    monitor=\"val_loss\",\n",
    "    min_delta=0.0001,\n",
    "    patience=20,\n",
    "    verbose=1,\n",
    "    mode=\"auto\",\n",
    "    baseline=None,\n",
    "    restore_best_weights=False,\n",
    "    start_from_epoch=0)\n",
    "\n",
    "result = model.fit(x_train2, y_train1, epochs=50, validation_split=0.2, batch_size=100, callbacks=[early_stop])"
   ]
  },
  {
   "cell_type": "code",
   "execution_count": null,
   "id": "14b428e3-ee55-4cc5-b8c0-d8d9fe963429",
   "metadata": {},
   "outputs": [],
   "source": [
    "loss, accuracy = model.evaluate(x_train2, y_train1)"
   ]
  },
  {
   "cell_type": "code",
   "execution_count": null,
   "id": "80811ec6-6635-4005-83f3-f859b7c5d212",
   "metadata": {},
   "outputs": [],
   "source": [
    "loss, accuracy = model.evaluate(x_test2, y_test1)"
   ]
  },
  {
   "cell_type": "code",
   "execution_count": null,
   "id": "f054aeb7-c948-42ed-ac87-0c3e17db3366",
   "metadata": {},
   "outputs": [],
   "source": [
    "result.history.keys()"
   ]
  },
  {
   "cell_type": "code",
   "execution_count": null,
   "id": "4af36ba3-eca6-403e-b810-c37b1b6cd6c9",
   "metadata": {
    "scrolled": true
   },
   "outputs": [],
   "source": [
    "plt.figure(figsize=(8,5))\n",
    "plt.plot(result.history['accuracy'], label='train')\n",
    "plt.plot(result.history['val_accuracy'], label='test')\n",
    "plt.xlabel('epochs')\n",
    "plt.ylabel('accuracy')\n",
    "plt.title('epochs vs accuracy')\n",
    "plt.legend()\n",
    "plt.show()"
   ]
  },
  {
   "cell_type": "code",
   "execution_count": null,
   "id": "d1245993-af2c-42cc-a7b7-3ee3f35d32b8",
   "metadata": {
    "scrolled": true
   },
   "outputs": [],
   "source": [
    "plt.figure(figsize=(8,5))\n",
    "plt.plot(result.history['loss'], label='train')\n",
    "plt.plot(result.history['val_loss'], label='test')\n",
    "plt.xlabel('epochs')\n",
    "plt.ylabel('loss')\n",
    "plt.title('epochs vs loss')\n",
    "plt.legend()\n",
    "plt.show()"
   ]
  },
  {
   "cell_type": "code",
   "execution_count": null,
   "id": "f23a4d4d-2a0c-42d4-9981-a18dfc3b77cc",
   "metadata": {},
   "outputs": [],
   "source": [
    "model.summary()"
   ]
  },
  {
   "cell_type": "code",
   "execution_count": null,
   "id": "4b2b7680-90f4-4386-b203-63ceaa4b551e",
   "metadata": {},
   "outputs": [],
   "source": [
    "model.get_weights()"
   ]
  },
  {
   "cell_type": "code",
   "execution_count": null,
   "id": "2bcaf36e-0eb3-43ee-bfc4-2365defe4b04",
   "metadata": {},
   "outputs": [],
   "source": [
    "y_pr = model.predict(x_test1)\n",
    "y_pre = (y_pr > 0.5).astype(int)\n",
    "y_pred = y_pre.flatten()\n",
    "\n",
    "y_Data = pd.DataFrame({'y_test' : y_test , 'y_pred' : y_pred })\n",
    "y_Data"
   ]
  },
  {
   "cell_type": "code",
   "execution_count": null,
   "id": "6a936ad2-ac4a-41b0-b359-966bc72b8bb7",
   "metadata": {
    "scrolled": true
   },
   "outputs": [],
   "source": [
    "from sklearn.metrics import accuracy_score, confusion_matrix, classification_report\n",
    "print(f'---------------------------------------------------------------')\n",
    "print(f'confusion_matrix : \\n{confusion_matrix(y_Data.y_test, y_Data.y_pred)}')\n",
    "print(f'---------------------------------------------------------------')\n",
    "print(f'classification_report : \\n{classification_report(y_Data.y_test, y_Data.y_pred)}')\n",
    "print(f'---------------------------------------------------------------')\n",
    "print(f'accuracy_score : {accuracy_score(y_Data.y_test, y_Data.y_pred)}')\n",
    "print(f'-------------------------------------------------------------')"
   ]
  },
  {
   "cell_type": "code",
   "execution_count": null,
   "id": "13bdf012-bb3a-4fdc-87db-1606895dcfd0",
   "metadata": {},
   "outputs": [],
   "source": [
    "import pickle\n",
    "\n",
    "pickle.dump(model, open('model.pkl', 'wb'))\n",
    "\n",
    "model1 = pickle.load(open('model.pkl', 'rb'))"
   ]
  },
  {
   "cell_type": "code",
   "execution_count": null,
   "id": "0291fe18-59e1-4c8d-991c-fb9f41017a59",
   "metadata": {},
   "outputs": [],
   "source": []
  },
  {
   "cell_type": "markdown",
   "id": "81a76c37-2107-471c-a197-bae911f8503e",
   "metadata": {},
   "source": [
    "## Predictions"
   ]
  },
  {
   "cell_type": "code",
   "execution_count": null,
   "id": "7b0b08f9-ccc6-4e18-9851-a4af198551b9",
   "metadata": {},
   "outputs": [],
   "source": [
    "model1"
   ]
  },
  {
   "cell_type": "code",
   "execution_count": null,
   "id": "266be430-9f23-4e52-8937-0234cf50a079",
   "metadata": {},
   "outputs": [],
   "source": [
    "x_train[3].shape"
   ]
  },
  {
   "cell_type": "code",
   "execution_count": null,
   "id": "d176dbae-58d0-45b3-83e9-60cd1b742fdf",
   "metadata": {},
   "outputs": [],
   "source": [
    "inp = x_train1[99]\n",
    "inpu = np.array(inp)\n",
    "input = inpu/255\n",
    "input = input.reshape(1,100,100,3)\n",
    "\n",
    "pre = model1.predict(input)\n",
    "pred = np.argmax(pre, axis=1)               #(pre>0.5).astype(pre)\n",
    "pd.DataFrame({'actu' : y_train[99], 'pred' : pred})"
   ]
  }
 ],
 "metadata": {
  "kernelspec": {
   "display_name": "Python 3 (ipykernel)",
   "language": "python",
   "name": "python3"
  },
  "language_info": {
   "codemirror_mode": {
    "name": "ipython",
    "version": 3
   },
   "file_extension": ".py",
   "mimetype": "text/x-python",
   "name": "python",
   "nbconvert_exporter": "python",
   "pygments_lexer": "ipython3",
   "version": "3.11.7"
  }
 },
 "nbformat": 4,
 "nbformat_minor": 5
}
